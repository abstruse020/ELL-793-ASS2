{
 "cells": [
  {
   "cell_type": "code",
   "execution_count": 5,
   "id": "55aea87c-b78b-4ca6-a81b-81e41c5659b2",
   "metadata": {},
   "outputs": [],
   "source": [
    "import torch\n",
    "import torchvision\n",
    "import torchvision.models as models\n",
    "from torchvision import datasets, transforms as T\n",
    "from torch import nn\n",
    "import torch.nn.functional as F\n",
    "import torch.optim as optim\n",
    "from tqdm.notebook import tqdm_notebook\n",
    "import matplotlib.pyplot as plt\n",
    "import numpy as np"
   ]
  },
  {
   "cell_type": "code",
   "execution_count": 6,
   "id": "affbb3e6-8cb7-426a-9e3d-7b3b1b58e5cd",
   "metadata": {},
   "outputs": [
    {
     "name": "stdout",
     "output_type": "stream",
     "text": [
      "cuda:0\n"
     ]
    },
    {
     "data": {
      "text/plain": [
       "'NVIDIA GeForce GTX 1660 Ti with Max-Q Design'"
      ]
     },
     "execution_count": 6,
     "metadata": {},
     "output_type": "execute_result"
    }
   ],
   "source": [
    "device = torch.device('cuda:0' if torch.cuda.is_available() else 'cpu')\n",
    "print(device)\n",
    "torch.cuda.get_device_name()"
   ]
  },
  {
   "cell_type": "markdown",
   "id": "9e123d9f-3a20-4ea3-8ab7-f72134907b8b",
   "metadata": {},
   "source": [
    "## Getting data"
   ]
  },
  {
   "cell_type": "code",
   "execution_count": 7,
   "id": "935226c1-f75c-4f02-9d4c-ad31bc2b550c",
   "metadata": {},
   "outputs": [],
   "source": [
    "## General params\n",
    "num_classes = 10\n",
    "batch_size = 64\n",
    "input_size = 224\n",
    "RESNET_PATH_C = './resnet18_c_augm1.pth'"
   ]
  },
  {
   "cell_type": "code",
   "execution_count": 8,
   "id": "e23fde9e-f11c-4a10-aec1-85e7ed2cca9b",
   "metadata": {},
   "outputs": [],
   "source": [
    "# r_crop = T.RandomResizedCrop(244)\n",
    "# resize = T.Resize(244)\n",
    "# img = torch.rand((3,30,30))\n",
    "# print(img)\n",
    "\n",
    "# plt.imshow(np.transpose(img.numpy(), (1,2,0)))\n",
    "# plt.show()\n",
    "\n",
    "# img1 = r_crop(img)\n",
    "# plt.imshow(np.transpose(img1.numpy(), (1,2,0)))\n",
    "# plt.show()\n",
    "# print(img1.shape)\n",
    "\n",
    "# img2 = r_crop(img)\n",
    "# plt.imshow(np.transpose(img2.numpy(), (1,2,0)))\n",
    "# plt.show()\n",
    "# print(img2.shape)"
   ]
  },
  {
   "cell_type": "code",
   "execution_count": 9,
   "id": "18a5d77c-d530-42b4-b672-2869ccf01fbb",
   "metadata": {
    "tags": []
   },
   "outputs": [
    {
     "name": "stdout",
     "output_type": "stream",
     "text": [
      "Files already downloaded and verified\n",
      "train + val: Dataset CIFAR10\n",
      "    Number of datapoints: 50000\n",
      "    Root location: ./data\n",
      "    Split: Train\n",
      "    StandardTransform\n",
      "Transform: Compose(\n",
      "               RandomAffine(degrees=[0.0, 15.0], translate=(0.1, 0.3), scale=(0.75, 1.0))\n",
      "               RandomAdjustSharpness(sharpness_factor=2,p=0.5)\n",
      "               RandomAutocontrast(p=0.5)\n",
      "               Resize(size=224, interpolation=bilinear)\n",
      "               ToTensor()\n",
      "               Normalize(mean=(0.5, 0.5, 0.5), std=(0.5, 0.5, 0.5))\n",
      "           )\n",
      "train set: Dataset CIFAR10\n",
      "    Number of datapoints: 50000\n",
      "    Root location: ./data\n",
      "    Split: Train\n",
      "    StandardTransform\n",
      "Transform: Compose(\n",
      "               RandomAffine(degrees=[0.0, 15.0], translate=(0.1, 0.3), scale=(0.75, 1.0))\n",
      "               RandomAdjustSharpness(sharpness_factor=2,p=0.5)\n",
      "               RandomAutocontrast(p=0.5)\n",
      "               Resize(size=224, interpolation=bilinear)\n",
      "               ToTensor()\n",
      "               Normalize(mean=(0.5, 0.5, 0.5), std=(0.5, 0.5, 0.5))\n",
      "           )\n",
      "val set: Dataset CIFAR10\n",
      "    Number of datapoints: 50000\n",
      "    Root location: ./data\n",
      "    Split: Train\n",
      "    StandardTransform\n",
      "Transform: Compose(\n",
      "               RandomAffine(degrees=[0.0, 15.0], translate=(0.1, 0.3), scale=(0.75, 1.0))\n",
      "               RandomAdjustSharpness(sharpness_factor=2,p=0.5)\n",
      "               RandomAutocontrast(p=0.5)\n",
      "               Resize(size=224, interpolation=bilinear)\n",
      "               ToTensor()\n",
      "               Normalize(mean=(0.5, 0.5, 0.5), std=(0.5, 0.5, 0.5))\n",
      "           )\n",
      "Files already downloaded and verified\n"
     ]
    }
   ],
   "source": [
    "transform = T.Compose([\n",
    "    T.RandomAffine(degrees=(0,15), translate=(0.1, 0.3), scale=(0.75, 1.0)),\n",
    "    T.RandomAdjustSharpness(sharpness_factor=2),\n",
    "    T.RandomAutocontrast(),\n",
    "    T.Resize(input_size),\n",
    "    T.ToTensor(),\n",
    "    T.Normalize((0.5,0.5,0.5), (0.5,0.5,0.5))])\n",
    "\n",
    "trainset = torchvision.datasets.CIFAR10(root='./data', train=True,\n",
    "                                        download=True, transform=transform)\n",
    "print('train + val:',trainset)\n",
    "trainset, valset = torch.utils.data.random_split(trainset, [40000, 10000])\n",
    "print('train set:',trainset.dataset)\n",
    "print('val set:', valset.dataset)\n",
    "trainloader = torch.utils.data.DataLoader(trainset, batch_size=batch_size,\n",
    "                                          shuffle=True, num_workers=2)\n",
    "valloader = torch.utils.data.DataLoader(valset, batch_size=batch_size,\n",
    "                                          shuffle=True, num_workers=2)\n",
    "\n",
    "testset = torchvision.datasets.CIFAR10(root='./data', train=False,\n",
    "                                       download=True, transform=transform)\n",
    "testloader = torch.utils.data.DataLoader(testset, batch_size=batch_size,\n",
    "                                         shuffle=False, num_workers=2)\n"
   ]
  },
  {
   "cell_type": "code",
   "execution_count": 10,
   "id": "06632b50-c767-4a8b-9ecd-3790caa97e16",
   "metadata": {
    "tags": []
   },
   "outputs": [
    {
     "name": "stdout",
     "output_type": "stream",
     "text": [
      "5000\n",
      "[500, 500, 500, 500, 500, 500, 500, 500, 500, 500]\n"
     ]
    }
   ],
   "source": [
    "mask_500 = []\n",
    "count_by_class = [0]*10\n",
    "for i in range(40000):\n",
    "    _, label = trainset.dataset[i]\n",
    "    if count_by_class[label] < 500:\n",
    "        mask_500.append(i)\n",
    "        count_by_class[label] +=1\n",
    "print(len(mask_500))\n",
    "print(count_by_class)"
   ]
  },
  {
   "cell_type": "code",
   "execution_count": 11,
   "id": "0f7f0cb4-94f2-4467-b1af-8fa03820199b",
   "metadata": {},
   "outputs": [
    {
     "name": "stdout",
     "output_type": "stream",
     "text": [
      "<class 'torch.utils.data.dataset.Subset'>\n"
     ]
    }
   ],
   "source": [
    "tiny_trainset = torch.utils.data.Subset(trainset, mask_500)\n",
    "tiny_trainloader = torch.utils.data.DataLoader(tiny_trainset, batch_size=batch_size,\n",
    "                                              shuffle=True, num_workers=2)\n",
    "print(type(tiny_trainloader.dataset))"
   ]
  },
  {
   "cell_type": "markdown",
   "id": "0fca8c0b-2850-4f1b-8b59-82687f37b964",
   "metadata": {},
   "source": []
  },
  {
   "cell_type": "code",
   "execution_count": 12,
   "id": "5eedee0d-3da7-4412-a4bd-de24f9fa87d2",
   "metadata": {},
   "outputs": [],
   "source": [
    "## Not using auto augment as they are already trained on some datasets \n",
    "# augmented_train_set = []\n",
    "\n",
    "# affine_transfomer = T.RandomAffine(degrees=(10, 30), translate=(0.1, 0.3), scale=(0.75, 1.0))\n",
    "# sharpness_adjuster = T.RandomAdjustSharpness(sharpness_factor=2)\n",
    "# autocontraster = T.RandomAutocontrast()\n",
    "\n",
    "# for image, label in tiny_trainset:\n",
    "#     augmented_train_set.append([image, label])\n",
    "#     aug_image = []\n",
    "#     aug_image.append(affine_transfomer(image))\n",
    "#     aug_image.append(affine_transfomer(image))\n",
    "#     aug_image.append(sharpness_adjuster(image))\n",
    "#     aug_image.append(autocontraster(image))\n",
    "#     for img in aug_image:\n",
    "#         augmented_train_set.append([img, label])\n",
    "\n",
    "# print(len(augmented_train_set))\n"
   ]
  },
  {
   "cell_type": "code",
   "execution_count": 13,
   "id": "f10b7c72-9520-4195-8950-cbf91470f5f2",
   "metadata": {},
   "outputs": [],
   "source": [
    "# augmented_train_loader = torch.utils.data.DataLoader(tiny_trainset, batch_size=batch_size,\n",
    "#                                                     shuffle=True, num_workers=2)"
   ]
  },
  {
   "cell_type": "code",
   "execution_count": 14,
   "id": "da113628-8543-46ff-866d-156a0e9cad4b",
   "metadata": {},
   "outputs": [],
   "source": [
    "dataloader_dict = {\n",
    "    'train': tiny_trainloader,\n",
    "    'val': valloader\n",
    "}\n",
    "\n",
    "# aug_dataloader ={\n",
    "#     'train': augmented_train_loader,\n",
    "#     'val': valloader\n",
    "# }\n",
    "# print('complete dataloader:',dataloader_dict)\n",
    "\n",
    "classes = ('plane', 'car', 'bird', 'cat',\n",
    "           'deer', 'dog', 'frog', 'horse', 'ship', 'truck')"
   ]
  },
  {
   "cell_type": "code",
   "execution_count": 15,
   "id": "dbda8c41-ec13-48a5-bd1e-4fcc950afa92",
   "metadata": {},
   "outputs": [],
   "source": [
    "# count =0 \n",
    "# for image, label in dataloader_dict['train']:\n",
    "#     count+=1\n",
    "# print(count)\n",
    "# 79 batches"
   ]
  },
  {
   "cell_type": "code",
   "execution_count": 16,
   "id": "897af55f-b86a-4585-bc05-fbde02ccbbd1",
   "metadata": {},
   "outputs": [
    {
     "name": "stdout",
     "output_type": "stream",
     "text": [
      "start transforming\n"
     ]
    },
    {
     "data": {
      "image/png": "[encoded data removed]",
      "text/plain": [
       "<Figure size 432x288 with 1 Axes>"
      ]
     },
     "metadata": {
      "needs_background": "light"
     },
     "output_type": "display_data"
    },
    {
     "name": "stdout",
     "output_type": "stream",
     "text": [
      "horse      ship       dog        cat        ship      \n"
     ]
    }
   ],
   "source": [
    "## Checking out some training images\n",
    "\n",
    "\n",
    "# functions to show an image\n",
    "def imshow(img):\n",
    "    print('start transforming')\n",
    "    img = img / 2 + 0.5     # unnormalize\n",
    "    # print('1')\n",
    "    npimg = img.numpy()\n",
    "    # print('2')\n",
    "    plt.imshow(np.transpose(npimg, (1, 2, 0)))\n",
    "    # print('3')\n",
    "    plt.show()\n",
    "\n",
    "\n",
    "# get some random training images\n",
    "dataiter = iter(tiny_trainloader)\n",
    "# dataiter = iter(augmented_train_loader)\n",
    "images, labels = dataiter.next()\n",
    "imshow(torchvision.utils.make_grid(images[:5]))\n",
    "print(' '.join(f'{classes[labels[j]]:10s}' for j in range(5)))"
   ]
  },
  {
   "cell_type": "markdown",
   "id": "ead98bfe-fbde-4296-83be-c00b2a4568dc",
   "metadata": {},
   "source": []
  },
  {
   "cell_type": "code",
   "execution_count": 18,
   "id": "68c0a4c9-6aa7-48ba-8d3b-aa38df37f1cb",
   "metadata": {},
   "outputs": [],
   "source": [
    "## Advanced pytorch train function\n",
    "import time\n",
    "import copy\n",
    "val_acc_history = []\n",
    "train_acc_history = []\n",
    "def train_model(model, dataloaders, criterion, optimizer, num_epochs=25, is_inception=False):\n",
    "    since = time.time()\n",
    "\n",
    "    # val_acc_history = []\n",
    "\n",
    "    best_model_wts = copy.deepcopy(model.state_dict())\n",
    "    best_acc = 0.0\n",
    "\n",
    "    for epoch in range(num_epochs):\n",
    "        print('Epoch {}/{}'.format(epoch, num_epochs - 1))\n",
    "        print('-' * 10)\n",
    "\n",
    "        # Each epoch has a training and validation phase\n",
    "        for phase in ['train', 'val']:\n",
    "            if phase == 'train':\n",
    "                model.train()  # Set model to training mode\n",
    "            else:\n",
    "                model.eval()   # Set model to evaluate mode\n",
    "\n",
    "            running_loss = 0.0\n",
    "            running_corrects = 0\n",
    "\n",
    "            # Iterate over data.\n",
    "            for inputs, labels in dataloaders[phase]:\n",
    "                inputs = inputs.to(device)\n",
    "                labels = labels.to(device)\n",
    "\n",
    "                # zero the parameter gradients\n",
    "                optimizer.zero_grad()\n",
    "\n",
    "                # forward\n",
    "                # track history if only in train\n",
    "                with torch.set_grad_enabled(phase == 'train'):\n",
    "                    # Get model outputs and calculate loss\n",
    "                    # Special case for inception because in training it has an auxiliary output. In train\n",
    "                    #   mode we calculate the loss by summing the final output and the auxiliary output\n",
    "                    #   but in testing we only consider the final output.\n",
    "                    if is_inception and phase == 'train':\n",
    "                        # From https://discuss.pytorch.org/t/how-to-optimize-inception-model-with-auxiliary-classifiers/7958\n",
    "                        outputs, aux_outputs = model(inputs)\n",
    "                        loss1 = criterion(outputs, labels)\n",
    "                        loss2 = criterion(aux_outputs, labels)\n",
    "                        loss = loss1 + 0.4*loss2\n",
    "                    else:\n",
    "                        outputs = model(inputs)\n",
    "                        loss = criterion(outputs, labels)\n",
    "\n",
    "                    _, preds = torch.max(outputs, 1)\n",
    "\n",
    "                    # backward + optimize only if in training phase\n",
    "                    if phase == 'train':\n",
    "                        loss.backward()\n",
    "                        optimizer.step()\n",
    "\n",
    "                # statistics\n",
    "                running_loss += loss.item() * inputs.size(0)\n",
    "                running_corrects += torch.sum(preds == labels.data)\n",
    "\n",
    "            epoch_loss = running_loss / len(dataloaders[phase].dataset)\n",
    "            epoch_acc = running_corrects.double() / len(dataloaders[phase].dataset)\n",
    "\n",
    "            print('{} Loss: {:.4f} Acc: {:.4f}'.format(phase, epoch_loss, epoch_acc))\n",
    "\n",
    "            # deep copy the model\n",
    "            if phase == 'val' and epoch_acc > best_acc:\n",
    "                best_acc = epoch_acc\n",
    "                best_model_wts = copy.deepcopy(model.state_dict())\n",
    "            if phase == 'val':\n",
    "                val_acc_history.append(epoch_acc)\n",
    "            if phase == 'train':\n",
    "                train_acc_history.append(epoch_acc)\n",
    "\n",
    "        print()\n",
    "\n",
    "    time_elapsed = time.time() - since\n",
    "    print('Training complete in {:.0f}m {:.0f}s'.format(time_elapsed // 60, time_elapsed % 60))\n",
    "    print('Best val Acc: {:4f}'.format(best_acc))\n",
    "\n",
    "    # load best model weights\n",
    "    model.load_state_dict(best_model_wts)\n",
    "    return model, val_acc_history, train_acc_history"
   ]
  },
  {
   "cell_type": "code",
   "execution_count": 19,
   "id": "a4bb6da7-1c96-4a37-8320-1cecba700040",
   "metadata": {
    "tags": []
   },
   "outputs": [],
   "source": [
    "from raw_resnet import resnet18, ResNetBasicCustomBlock\n",
    "\n",
    "resnet18_c = resnet18(3, 10,block=ResNetBasicCustomBlock)\n",
    "resnet18_c = resnet18_c.to(device)"
   ]
  },
  {
   "cell_type": "code",
   "execution_count": 32,
   "id": "494cf9e0-0bc2-4552-8dd0-b27efa29d4a0",
   "metadata": {},
   "outputs": [],
   "source": [
    "learning_rate = 1e-2\n",
    "num_epochs = 20\n",
    "optimizer = optim.Adam(resnet18_c.parameters(), lr = learning_rate)\n",
    "criterion = nn.CrossEntropyLoss()"
   ]
  },
  {
   "cell_type": "code",
   "execution_count": 33,
   "id": "99489244-3925-403a-a5db-175c9525dfb6",
   "metadata": {
    "tags": []
   },
   "outputs": [
    {
     "name": "stdout",
     "output_type": "stream",
     "text": [
      "Epoch 0/19\n",
      "----------\n",
      "train Loss: 0.9279 Acc: 0.6674\n",
      "val Loss: 1.2427 Acc: 0.5713\n",
      "\n",
      "Epoch 1/19\n",
      "----------\n",
      "train Loss: 0.8632 Acc: 0.6912\n",
      "val Loss: 1.2500 Acc: 0.5790\n",
      "\n",
      "Epoch 2/19\n",
      "----------\n",
      "train Loss: 0.8365 Acc: 0.6978\n",
      "val Loss: 1.2251 Acc: 0.5941\n",
      "\n",
      "Epoch 3/19\n",
      "----------\n",
      "train Loss: 0.7686 Acc: 0.7284\n",
      "val Loss: 1.2527 Acc: 0.5943\n",
      "\n",
      "Epoch 4/19\n",
      "----------\n",
      "train Loss: 0.7640 Acc: 0.7270\n",
      "val Loss: 1.5010 Acc: 0.5256\n",
      "\n",
      "Epoch 5/19\n",
      "----------\n",
      "train Loss: 0.6988 Acc: 0.7506\n",
      "val Loss: 1.3075 Acc: 0.5774\n",
      "\n",
      "Epoch 6/19\n",
      "----------\n",
      "train Loss: 0.6846 Acc: 0.7628\n",
      "val Loss: 1.1441 Acc: 0.6284\n",
      "\n",
      "Epoch 7/19\n",
      "----------\n",
      "train Loss: 0.6665 Acc: 0.7662\n",
      "val Loss: 1.1587 Acc: 0.6314\n",
      "\n",
      "Epoch 8/19\n",
      "----------\n",
      "train Loss: 0.6278 Acc: 0.7778\n",
      "val Loss: 1.1746 Acc: 0.6236\n",
      "\n",
      "Epoch 9/19\n",
      "----------\n",
      "train Loss: 0.5778 Acc: 0.8028\n",
      "val Loss: 1.2678 Acc: 0.6132\n",
      "\n",
      "Epoch 10/19\n",
      "----------\n",
      "train Loss: 0.5687 Acc: 0.8024\n",
      "val Loss: 1.2100 Acc: 0.6219\n",
      "\n",
      "Epoch 11/19\n",
      "----------\n",
      "train Loss: 0.5179 Acc: 0.8164\n",
      "val Loss: 1.1138 Acc: 0.6446\n",
      "\n",
      "Epoch 12/19\n",
      "----------\n",
      "train Loss: 0.5174 Acc: 0.8148\n",
      "val Loss: 1.2501 Acc: 0.6239\n",
      "\n",
      "Epoch 13/19\n",
      "----------\n",
      "train Loss: 0.4689 Acc: 0.8342\n",
      "val Loss: 1.2428 Acc: 0.6371\n",
      "\n",
      "Epoch 14/19\n",
      "----------\n",
      "train Loss: 0.4481 Acc: 0.8430\n",
      "val Loss: 1.2236 Acc: 0.6406\n",
      "\n",
      "Epoch 15/19\n",
      "----------\n",
      "train Loss: 0.4914 Acc: 0.8312\n",
      "val Loss: 1.1760 Acc: 0.6451\n",
      "\n",
      "Epoch 16/19\n",
      "----------\n",
      "train Loss: 0.3931 Acc: 0.8640\n",
      "val Loss: 1.2645 Acc: 0.6361\n",
      "\n",
      "Epoch 17/19\n",
      "----------\n",
      "train Loss: 0.4246 Acc: 0.8520\n",
      "val Loss: 1.1808 Acc: 0.6614\n",
      "\n",
      "Epoch 18/19\n",
      "----------\n",
      "train Loss: 0.3473 Acc: 0.8770\n",
      "val Loss: 1.1969 Acc: 0.6559\n",
      "\n",
      "Epoch 19/19\n",
      "----------\n",
      "train Loss: 0.3238 Acc: 0.8868\n",
      "val Loss: 1.3062 Acc: 0.6481\n",
      "\n",
      "Training complete in 11m 33s\n",
      "Best val Acc: 0.661400\n"
     ]
    }
   ],
   "source": [
    "continue_train = True\n",
    "if continue_train:\n",
    "    resnet18_c.load_state_dict(torch.load(RESNET_PATH_C))\n",
    "val_acc_history = []\n",
    "train_acc_history = []\n",
    "resnet18_c, val_acc, train_acc = train_model(resnet18_c, dataloader_dict,\n",
    "                               criterion, optimizer,num_epochs,is_inception=False)"
   ]
  },
  {
   "cell_type": "code",
   "execution_count": 34,
   "id": "4c686acd-93e1-4e78-995a-71e1436bc957",
   "metadata": {},
   "outputs": [],
   "source": [
    "torch.save(resnet18_c.state_dict(), RESNET_PATH_C)"
   ]
  },
  {
   "cell_type": "code",
   "execution_count": 35,
   "id": "42af9d20-e99b-42dd-917f-aacb5cc8f334",
   "metadata": {},
   "outputs": [],
   "source": [
    "val_accuracy = []\n",
    "train_accuracy = []\n",
    "for acc in val_acc_history:\n",
    "    val_accuracy.append(acc.item())\n",
    "for acc in train_acc_history:\n",
    "    train_accuracy.append(acc.item())"
   ]
  },
  {
   "cell_type": "code",
   "execution_count": 36,
   "id": "beb190a8-3902-4660-84ca-414cddf52efc",
   "metadata": {},
   "outputs": [
    {
     "data": {
      "image/png": "[encoded data removed]",
      "text/plain": [
       "<Figure size 432x288 with 1 Axes>"
      ]
     },
     "metadata": {
      "needs_background": "light"
     },
     "output_type": "display_data"
    }
   ],
   "source": [
    "## Plotting the accuracies\n",
    "import matplotlib.pyplot as plt\n",
    "# test_acc = [acc.data for acc in test_epoch_acc]\n",
    "\n",
    "plt.plot(val_accuracy, label='Test accuracy')\n",
    "plt.plot(train_accuracy, label='Train accuracy')\n",
    "plt.ylabel('Accuracy')\n",
    "plt.xlabel('Epochs')\n",
    "plt.legend()\n",
    "plt.show()"
   ]
  },
  {
   "cell_type": "code",
   "execution_count": null,
   "id": "b9eabcf2-d996-484f-8a47-e78252b7a3d7",
   "metadata": {},
   "outputs": [],
   "source": [
    "# class resnet18c_drop(nn.modules):\n",
    "#     def __init__(self):\n",
    "#         super(resnet18c_drop, self).__init__()\n",
    "#         self.model = models.resnet18(pretrained=False)\n",
    "#         self.droupout = nn.Dropout(0.5)\n",
    "        \n",
    "#     def forward(self, x):\n",
    "#         x = self.model.conv1(x)\n",
    "#         x = self.model.bn1(x)\n",
    "#         x = self.model.relu(x)\n",
    "#         x = self.model.maxpool(x)\n",
    "#         x = self.droupout(x)\n",
    "        \n",
    "#         x = self.model.layer1(x)\n",
    "#         x = self.model.layer2(x)\n",
    "#         x = self.model.layer3(x)\n",
    "#         x = self.model.layer4(x)\n",
    "\n",
    "#         x = self.model.avgpool(x)\n",
    "#         x = torch.flatten(x, 1)\n",
    "#         x = self.model.fc(x)\n",
    "        \n",
    "#         return x\n",
    "            "
   ]
  },
  {
   "cell_type": "code",
   "execution_count": 31,
   "id": "ba9cd3d7-0e10-488b-a86c-63da265daede",
   "metadata": {},
   "outputs": [],
   "source": [
    "# resnet18_c = models.resnet18(pretrained=False)\n",
    "# resnet18_c = resnet18_c.to(device)"
   ]
  }
 ],
 "metadata": {
  "kernelspec": {
   "display_name": "Python 3",
   "language": "python",
   "name": "python3"
  },
  "language_info": {
   "codemirror_mode": {
    "name": "ipython",
    "version": 3
   },
   "file_extension": ".py",
   "mimetype": "text/x-python",
   "name": "python",
   "nbconvert_exporter": "python",
   "pygments_lexer": "ipython3",
   "version": "3.8.8"
  }
 },
 "nbformat": 4,
 "nbformat_minor": 5
}
